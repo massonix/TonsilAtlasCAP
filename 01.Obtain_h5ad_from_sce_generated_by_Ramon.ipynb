{
 "cells": [
  {
   "cell_type": "code",
   "execution_count": null,
   "id": "8aa87fb0-3155-416c-9a35-309cd1424ef3",
   "metadata": {},
   "outputs": [],
   "source": [
    "library(Seurat)\n",
    "library(tidyverse)\n",
    "library(zellkonverter)\n",
    "library(basilisk)\n",
    "library(SingleCellExperiment)\n",
    "library(dplyr)"
   ]
  },
  {
   "cell_type": "markdown",
   "id": "b68f19ed-86e4-40c8-ab76-3c9b37fbd45f",
   "metadata": {},
   "source": [
    "**Parameters**"
   ]
  },
  {
   "cell_type": "code",
   "execution_count": 11,
   "id": "a83d43d7-d54b-42a3-867e-e7bda929190f",
   "metadata": {
    "execution": {
     "iopub.execute_input": "2024-07-26T16:29:39.093945Z",
     "iopub.status.busy": "2024-07-26T16:29:39.092341Z",
     "iopub.status.idle": "2024-07-26T16:29:39.106798Z",
     "shell.execute_reply": "2024-07-26T16:29:39.105068Z"
    }
   },
   "outputs": [],
   "source": [
    "root_folder <-  \"/scratch/devel/saguilar/PhD/PROJECTS/tonsil_atlas/TonsilAtlasCAP/\"\n",
    "data_folder <- paste0(root_folder, \"data/\")"
   ]
  },
  {
   "cell_type": "markdown",
   "id": "587d82d7-7266-4105-afe1-4dcbd4e60822",
   "metadata": {},
   "source": [
    "# Load data"
   ]
  },
  {
   "cell_type": "code",
   "execution_count": 12,
   "id": "87054c46-2be1-4e64-b746-956b1ff2c32a",
   "metadata": {
    "execution": {
     "iopub.execute_input": "2024-07-26T16:29:40.858981Z",
     "iopub.status.busy": "2024-07-26T16:29:40.857362Z",
     "iopub.status.idle": "2024-07-26T16:30:24.425305Z",
     "shell.execute_reply": "2024-07-26T16:30:24.423520Z"
    }
   },
   "outputs": [],
   "source": [
    "sce <- readRDS(paste0(data_folder, \"TonsilAtlasSCE.rds\"))"
   ]
  },
  {
   "cell_type": "code",
   "execution_count": 24,
   "id": "539190e9-bf57-40a3-b2cb-f6155754e05d",
   "metadata": {
    "execution": {
     "iopub.execute_input": "2024-07-26T18:27:52.135389Z",
     "iopub.status.busy": "2024-07-26T18:27:52.134008Z",
     "iopub.status.idle": "2024-07-26T18:27:52.340996Z",
     "shell.execute_reply": "2024-07-26T18:27:52.339501Z"
    }
   },
   "outputs": [
    {
     "name": "stdout",
     "output_type": "stream",
     "text": [
      "\u001b[90m# A tibble: 1 × 2\u001b[39m\n",
      "  assay     num_cells\n",
      "  \u001b[3m\u001b[90m<chr>\u001b[39m\u001b[23m         \u001b[3m\u001b[90m<int>\u001b[39m\u001b[23m\n",
      "\u001b[90m1\u001b[39m 10x 3' v3    \u001b[4m3\u001b[24m\u001b[4m7\u001b[24m\u001b[4m7\u001b[24m988\n"
     ]
    }
   ],
   "source": [
    "metadata <- colData(sce)\n",
    "\n",
    "# Count the number of cells for each assay\n",
    "num_cells_per_assay <- as.data.frame(metadata) %>%\n",
    "  group_by(assay) %>%\n",
    "  summarise(num_cells = n())\n",
    "\n",
    "# Print the result\n",
    "print(num_cells_per_assay)"
   ]
  },
  {
   "cell_type": "markdown",
   "id": "ac9e9744-a87b-46a7-91de-2f8da8585279",
   "metadata": {},
   "source": [
    "# Convert sce to anndata"
   ]
  },
  {
   "cell_type": "code",
   "execution_count": 13,
   "id": "2c58a48c-fb14-4f4a-8b06-47f4412f2883",
   "metadata": {
    "execution": {
     "iopub.execute_input": "2024-07-26T16:31:04.792287Z",
     "iopub.status.busy": "2024-07-26T16:31:04.790926Z",
     "iopub.status.idle": "2024-07-26T16:31:51.491680Z",
     "shell.execute_reply": "2024-07-26T16:31:51.489779Z"
    }
   },
   "outputs": [
    {
     "name": "stderr",
     "output_type": "stream",
     "text": [
      "Warning message in readLines(f, n):\n",
      "“line 1 appears to contain an embedded nul”\n",
      "Warning message in readLines(f, n):\n",
      "“incomplete final line found on '/scratch/devel/saguilar/PhD/PROJECTS/tonsil_atlas/._regulons_analysis.Rproj'”\n",
      "\u001b[36mℹ\u001b[39m Using the \u001b[32m\u001b[32m'counts'\u001b[32m\u001b[39m assay as the \u001b[32m\u001b[32mX matrix\u001b[32m\u001b[39m\n",
      "\n"
     ]
    }
   ],
   "source": [
    "adata <- SCE2AnnData(sce)"
   ]
  },
  {
   "cell_type": "code",
   "execution_count": 15,
   "id": "c7573743-e99c-4540-b847-2395df3410d0",
   "metadata": {
    "execution": {
     "iopub.execute_input": "2024-07-26T16:34:08.502163Z",
     "iopub.status.busy": "2024-07-26T16:34:08.500842Z",
     "iopub.status.idle": "2024-07-26T16:34:08.520902Z",
     "shell.execute_reply": "2024-07-26T16:34:08.519551Z"
    }
   },
   "outputs": [
    {
     "data": {
      "text/plain": [
       "AnnData object with n_obs × n_vars = 377988 × 38606\n",
       "    obs: 'barcode', 'donor_id', 'gem_id', 'library_name', 'assay', 'sex', 'age', 'age_group', 'hospital', 'cohort_type', 'cause_for_tonsillectomy', 'is_hashed', 'preservation', 'nCount_RNA', 'nFeature_RNA', 'pct_mt', 'pct_ribosomal', 'pDNN_hashing', 'pDNN_scrublet', 'pDNN_union', 'scrublet_doublet_scores', 'S.Score', 'G2M.Score', 'Phase', 'scrublet_predicted_doublet', 'doublet_score_scDblFinder', 'annotation_level_1', 'annotation_level_1_probability', 'annotation_figure_1', 'annotation_20220215', 'annotation_20220619', 'annotation_20230508', 'annotation_20230508_probability', 'UMAP_1_level_1', 'UMAP_2_level_1', 'UMAP_1_20220215', 'UMAP_2_20220215', 'UMAP_1_20230508', 'UMAP_2_20230508', 'type', 'azimuth.celltype.l1', 'azimuth.celltype.l2', 'tissue', 'organism', 'disease'\n",
       "    var: 'ensembl_id', 'gene_symbol'\n",
       "    uns: 'X_name', 'Study', 'ArrayExpress', 'Zenodo', 'HCATonsilData', 'Azimuth', 'GitHub'\n",
       "    obsm: 'X_pca', 'X_umap', 'X_harmony'"
      ]
     },
     "metadata": {},
     "output_type": "display_data"
    }
   ],
   "source": [
    "adata"
   ]
  },
  {
   "cell_type": "markdown",
   "id": "f9ec63a7-82fb-4e37-acb4-b7cf84e6bdff",
   "metadata": {},
   "source": [
    "# Save adata"
   ]
  },
  {
   "cell_type": "code",
   "execution_count": 18,
   "id": "85d9cdc9-d0b4-4e03-a7da-d0eabfa812e0",
   "metadata": {
    "execution": {
     "iopub.execute_input": "2024-07-26T16:45:11.561163Z",
     "iopub.status.busy": "2024-07-26T16:45:11.559820Z",
     "iopub.status.idle": "2024-07-26T17:02:16.387883Z",
     "shell.execute_reply": "2024-07-26T17:02:16.385719Z"
    }
   },
   "outputs": [
    {
     "name": "stderr",
     "output_type": "stream",
     "text": [
      "\u001b[36mℹ\u001b[39m Using \u001b[32m\u001b[32manndata\u001b[32m\u001b[39m version \u001b[32m\u001b[32m0.8.0\u001b[32m\u001b[39m\n",
      "\n",
      "+ /home/groups/biomed/saguilar/.cache/R/basilisk/1.12.1/0/bin/conda create --yes --prefix /home/groups/biomed/saguilar/.cache/R/basilisk/1.12.1/zellkonverter/1.10.1/zellkonverterAnnDataEnv-0.8.0 'python=3.8.13' --quiet -c conda-forge\n",
      "\n",
      "+ /home/groups/biomed/saguilar/.cache/R/basilisk/1.12.1/0/bin/conda install --yes --prefix /home/groups/biomed/saguilar/.cache/R/basilisk/1.12.1/zellkonverter/1.10.1/zellkonverterAnnDataEnv-0.8.0 'python=3.8.13' -c conda-forge\n",
      "\n",
      "+ /home/groups/biomed/saguilar/.cache/R/basilisk/1.12.1/0/bin/conda install --yes --prefix /home/groups/biomed/saguilar/.cache/R/basilisk/1.12.1/zellkonverter/1.10.1/zellkonverterAnnDataEnv-0.8.0 -c conda-forge 'python=3.8.13' 'anndata=0.8.0' 'h5py=3.6.0' 'hdf5=1.12.1' 'natsort=8.1.0' 'numpy=1.22.3' 'packaging=21.3' 'pandas=1.4.2' 'python=3.8.13' 'scipy=1.7.3' 'sqlite=3.38.2'\n",
      "\n"
     ]
    }
   ],
   "source": [
    "h5ad_path <- paste0(data_folder, \"TonsilAtlasADATA.h5ad\")\n",
    "writeH5AD(\n",
    "  sce,\n",
    "  h5ad_path,\n",
    "  X_name = NULL,\n",
    "  skip_assays = FALSE,\n",
    "  compression = \"gzip\",\n",
    "  verbose = TRUE\n",
    ")"
   ]
  }
 ],
 "metadata": {
  "kernelspec": {
   "display_name": "R",
   "language": "R",
   "name": "ir"
  },
  "language_info": {
   "codemirror_mode": "r",
   "file_extension": ".r",
   "mimetype": "text/x-r-source",
   "name": "R",
   "pygments_lexer": "r",
   "version": "4.3.3"
  }
 },
 "nbformat": 4,
 "nbformat_minor": 5
}
