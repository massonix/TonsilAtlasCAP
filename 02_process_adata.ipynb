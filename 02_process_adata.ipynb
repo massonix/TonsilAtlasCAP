{
 "cells": [
  {
   "cell_type": "code",
   "execution_count": 1,
   "id": "101796b5-31d1-436f-8a5f-48be256979fd",
   "metadata": {
    "execution": {
     "iopub.execute_input": "2024-07-29T08:45:46.667445Z",
     "iopub.status.busy": "2024-07-29T08:45:46.666823Z",
     "iopub.status.idle": "2024-07-29T08:46:31.308516Z",
     "shell.execute_reply": "2024-07-29T08:46:31.307931Z",
     "shell.execute_reply.started": "2024-07-29T08:45:46.667425Z"
    }
   },
   "outputs": [],
   "source": [
    "import scanpy as sc\n",
    "import pandas as pd \n",
    "import numpy as np \n",
    "import anndata as an\n",
    "import os\n",
    "import pickle"
   ]
  },
  {
   "cell_type": "markdown",
   "id": "7a04f4fa-95aa-4de7-82ee-f0ce02f05d22",
   "metadata": {},
   "source": [
    "**Parameters**"
   ]
  },
  {
   "cell_type": "code",
   "execution_count": 2,
   "id": "75270956-65d7-42eb-a32c-d7afaa51e094",
   "metadata": {
    "execution": {
     "iopub.execute_input": "2024-07-29T08:46:31.309933Z",
     "iopub.status.busy": "2024-07-29T08:46:31.309449Z",
     "iopub.status.idle": "2024-07-29T08:46:31.312466Z",
     "shell.execute_reply": "2024-07-29T08:46:31.312114Z",
     "shell.execute_reply.started": "2024-07-29T08:46:31.309913Z"
    }
   },
   "outputs": [],
   "source": [
    "root_folder =  \"/scratch/devel/saguilar/PhD/PROJECTS/tonsil_atlas/TonsilAtlasCAP/\"\n",
    "data_folder = root_folder + \"data/\""
   ]
  },
  {
   "cell_type": "markdown",
   "id": "fcf6cf3a-8c7a-4dfb-ba9d-589d07f41e75",
   "metadata": {},
   "source": [
    "# Load data"
   ]
  },
  {
   "cell_type": "code",
   "execution_count": 3,
   "id": "a25fab23-48b4-450a-acea-5529c3d00991",
   "metadata": {
    "execution": {
     "iopub.execute_input": "2024-07-29T08:46:31.313337Z",
     "iopub.status.busy": "2024-07-29T08:46:31.313038Z",
     "iopub.status.idle": "2024-07-29T08:47:33.581370Z",
     "shell.execute_reply": "2024-07-29T08:47:33.580776Z",
     "shell.execute_reply.started": "2024-07-29T08:46:31.313320Z"
    }
   },
   "outputs": [],
   "source": [
    "# Load the h5ad file\n",
    "adata = sc.read_h5ad(data_folder + \"TonsilAtlasADATA.h5ad\")"
   ]
  },
  {
   "cell_type": "code",
   "execution_count": 4,
   "id": "020c8f8f-a459-4f87-8dcf-7f5a3e93938c",
   "metadata": {
    "execution": {
     "iopub.execute_input": "2024-07-29T08:47:33.582596Z",
     "iopub.status.busy": "2024-07-29T08:47:33.582429Z",
     "iopub.status.idle": "2024-07-29T08:47:33.587932Z",
     "shell.execute_reply": "2024-07-29T08:47:33.587566Z",
     "shell.execute_reply.started": "2024-07-29T08:47:33.582578Z"
    }
   },
   "outputs": [
    {
     "data": {
      "text/plain": [
       "AnnData object with n_obs × n_vars = 377988 × 38606\n",
       "    obs: 'barcode', 'donor_id', 'gem_id', 'library_name', 'assay', 'sex', 'age', 'age_group', 'hospital', 'cohort_type', 'cause_for_tonsillectomy', 'is_hashed', 'preservation', 'nCount_RNA', 'nFeature_RNA', 'pct_mt', 'pct_ribosomal', 'pDNN_hashing', 'pDNN_scrublet', 'pDNN_union', 'scrublet_doublet_scores', 'S.Score', 'G2M.Score', 'Phase', 'scrublet_predicted_doublet', 'doublet_score_scDblFinder', 'annotation_level_1', 'annotation_level_1_probability', 'annotation_figure_1', 'annotation_20220215', 'annotation_20220619', 'annotation_20230508', 'annotation_20230508_probability', 'UMAP_1_level_1', 'UMAP_2_level_1', 'UMAP_1_20220215', 'UMAP_2_20220215', 'UMAP_1_20230508', 'UMAP_2_20230508', 'type', 'azimuth.celltype.l1', 'azimuth.celltype.l2', 'tissue', 'organism', 'disease'\n",
       "    var: 'ensembl_id', 'gene_symbol'\n",
       "    uns: 'ArrayExpress', 'Azimuth', 'GitHub', 'HCATonsilData', 'Study', 'X_name', 'Zenodo'\n",
       "    obsm: 'X_harmony', 'X_pca', 'X_umap'"
      ]
     },
     "execution_count": 4,
     "metadata": {},
     "output_type": "execute_result"
    }
   ],
   "source": [
    "adata"
   ]
  },
  {
   "cell_type": "markdown",
   "id": "7b5754a8-4876-44a1-a855-6925a90c8c6c",
   "metadata": {},
   "source": [
    "# Process data"
   ]
  },
  {
   "cell_type": "markdown",
   "id": "fbbbadc1-40da-49ca-8240-02a487b13c55",
   "metadata": {},
   "source": [
    "## OBS"
   ]
  },
  {
   "cell_type": "markdown",
   "id": "eab495ab-506d-4cff-8608-4e3a200c8af8",
   "metadata": {},
   "source": [
    "### Clarify in-house metadata"
   ]
  },
  {
   "cell_type": "code",
   "execution_count": 9,
   "id": "a0ced5b7-dc90-47c6-a76f-70dbb4ebb8d2",
   "metadata": {
    "execution": {
     "iopub.execute_input": "2024-07-29T10:20:11.510568Z",
     "iopub.status.busy": "2024-07-29T10:20:11.510266Z",
     "iopub.status.idle": "2024-07-29T10:20:11.514814Z",
     "shell.execute_reply": "2024-07-29T10:20:11.514366Z",
     "shell.execute_reply.started": "2024-07-29T10:20:11.510550Z"
    }
   },
   "outputs": [],
   "source": [
    "# GemID\n",
    "adata.obs.rename(columns={'gem_id': '10X_channel'}, inplace=True)\n",
    "# LibraryID\n",
    "adata.obs.rename(columns={'library_name': 'libraryID'}, inplace=True)\n",
    "# Annotation level 1\n",
    "adata.obs.rename(columns={'annotation_level_1': 'cell_types_level1'}, inplace=True)\n",
    "# Annotation level 2\n",
    "adata.obs.rename(columns={'azimuth.celltype.l2': 'cell_types_level2'}, inplace=True)\n",
    "# Annotation level 3\n",
    "#adata.obs.rename(columns={'annotation_20220619': 'cell_types_level3_20220619'}, inplace=True)\n",
    "# Annotation level 3\n",
    "adata.obs.rename(columns={'annotation_20230508': 'cell_types_level3_20230508'}, inplace=True)"
   ]
  },
  {
   "cell_type": "code",
   "execution_count": 11,
   "id": "9cfc88be-2ad2-4733-9e4d-fef8ee11113e",
   "metadata": {
    "execution": {
     "iopub.execute_input": "2024-07-29T10:21:10.454271Z",
     "iopub.status.busy": "2024-07-29T10:21:10.453883Z",
     "iopub.status.idle": "2024-07-29T10:21:10.458415Z",
     "shell.execute_reply": "2024-07-29T10:21:10.457941Z",
     "shell.execute_reply.started": "2024-07-29T10:21:10.454252Z"
    }
   },
   "outputs": [],
   "source": [
    "# We have a FDC cluster annotated as unknown that is NA for the azimuth annotation\n",
    "na_mask = adata.obs[\"cell_types_level2\"].isna()\n",
    "adata.obs[\"cell_types_level2\"] = adata.obs[\"cell_types_level2\"].cat.add_categories([\"unknown\"])\n",
    "adata.obs.loc[na_mask, \"cell_types_level2\"] = \"unknown\""
   ]
  },
  {
   "cell_type": "markdown",
   "id": "3b53d361-e7c4-4185-9434-26899587b51a",
   "metadata": {},
   "source": [
    "### Assay"
   ]
  },
  {
   "cell_type": "code",
   "execution_count": 13,
   "id": "2dad0060-9574-44e4-a8cd-9dff579143db",
   "metadata": {
    "execution": {
     "iopub.execute_input": "2024-07-29T10:21:39.549687Z",
     "iopub.status.busy": "2024-07-29T10:21:39.549053Z",
     "iopub.status.idle": "2024-07-29T10:21:39.554986Z",
     "shell.execute_reply": "2024-07-29T10:21:39.554633Z",
     "shell.execute_reply.started": "2024-07-29T10:21:39.549658Z"
    }
   },
   "outputs": [
    {
     "data": {
      "text/plain": [
       "['10x 3' v3']\n",
       "Categories (1, object): ['10x 3' v3']"
      ]
     },
     "execution_count": 13,
     "metadata": {},
     "output_type": "execute_result"
    }
   ],
   "source": [
    "listGroups = adata.obs['assay'].unique()\n",
    "listGroups"
   ]
  },
  {
   "cell_type": "code",
   "execution_count": 14,
   "id": "9cc18e91-4a9b-4817-8ae5-4f06a86cf001",
   "metadata": {
    "execution": {
     "iopub.execute_input": "2024-07-29T10:21:41.057020Z",
     "iopub.status.busy": "2024-07-29T10:21:41.056549Z",
     "iopub.status.idle": "2024-07-29T10:21:41.061014Z",
     "shell.execute_reply": "2024-07-29T10:21:41.060589Z",
     "shell.execute_reply.started": "2024-07-29T10:21:41.057001Z"
    }
   },
   "outputs": [],
   "source": [
    "adata.obs['assay'] = adata.obs['assay'].replace({'3P': '10x 3\\' v3.1', 'multiome': '10X multiome 5\\' v1.1'})"
   ]
  },
  {
   "cell_type": "markdown",
   "id": "eae6282e-2d26-4732-bb45-5d2a174ca451",
   "metadata": {},
   "source": [
    "### Disease"
   ]
  },
  {
   "cell_type": "code",
   "execution_count": 15,
   "id": "54f0fd40-7b2d-4da6-8e91-64049347ce38",
   "metadata": {
    "execution": {
     "iopub.execute_input": "2024-07-29T10:21:42.942098Z",
     "iopub.status.busy": "2024-07-29T10:21:42.941614Z",
     "iopub.status.idle": "2024-07-29T10:21:42.945735Z",
     "shell.execute_reply": "2024-07-29T10:21:42.945367Z",
     "shell.execute_reply.started": "2024-07-29T10:21:42.942078Z"
    }
   },
   "outputs": [],
   "source": [
    "adata.obs['disease'] = \"healthy\""
   ]
  },
  {
   "cell_type": "markdown",
   "id": "9ae733be-5c16-4cb1-9186-f6da4b8e7280",
   "metadata": {},
   "source": [
    "### Organism"
   ]
  },
  {
   "cell_type": "code",
   "execution_count": 16,
   "id": "9de50b4a-f21f-4e1c-a175-bb40996315e1",
   "metadata": {
    "execution": {
     "iopub.execute_input": "2024-07-29T10:21:45.461388Z",
     "iopub.status.busy": "2024-07-29T10:21:45.461084Z",
     "iopub.status.idle": "2024-07-29T10:21:45.465056Z",
     "shell.execute_reply": "2024-07-29T10:21:45.464666Z",
     "shell.execute_reply.started": "2024-07-29T10:21:45.461369Z"
    }
   },
   "outputs": [],
   "source": [
    "adata.obs['organism'] = \"Homo sapiens\""
   ]
  },
  {
   "cell_type": "markdown",
   "id": "68db6e7d-be3e-44af-a1a2-6b46c466b009",
   "metadata": {},
   "source": [
    "### Tissue"
   ]
  },
  {
   "cell_type": "code",
   "execution_count": 17,
   "id": "7f4109ff-82da-4027-8ff9-ec7b1e3d6cfb",
   "metadata": {
    "execution": {
     "iopub.execute_input": "2024-07-29T10:21:47.920334Z",
     "iopub.status.busy": "2024-07-29T10:21:47.920112Z",
     "iopub.status.idle": "2024-07-29T10:21:47.923699Z",
     "shell.execute_reply": "2024-07-29T10:21:47.923330Z",
     "shell.execute_reply.started": "2024-07-29T10:21:47.920314Z"
    }
   },
   "outputs": [],
   "source": [
    "adata.obs['tissue'] = \"Tonsil\""
   ]
  },
  {
   "cell_type": "markdown",
   "id": "d0750565-c2dd-4054-860b-26ecfd5641f4",
   "metadata": {},
   "source": [
    "### Subset to interesting columns"
   ]
  },
  {
   "cell_type": "code",
   "execution_count": 18,
   "id": "f42c1964-2bed-4dde-b91f-30a932c08361",
   "metadata": {
    "execution": {
     "iopub.execute_input": "2024-07-29T10:21:48.851215Z",
     "iopub.status.busy": "2024-07-29T10:21:48.850660Z",
     "iopub.status.idle": "2024-07-29T10:21:51.481165Z",
     "shell.execute_reply": "2024-07-29T10:21:51.480758Z",
     "shell.execute_reply.started": "2024-07-29T10:21:48.851182Z"
    }
   },
   "outputs": [
    {
     "data": {
      "text/plain": [
       "AnnData object with n_obs × n_vars = 377988 × 38606\n",
       "    obs: 'barcode', 'donor_id', '10X_channel', 'libraryID', 'assay', 'sex', 'age', 'age_group', 'hospital', 'cohort_type', 'cause_for_tonsillectomy', 'is_hashed', 'preservation', 'nCount_RNA', 'nFeature_RNA', 'pct_mt', 'pct_ribosomal', 'pDNN_hashing', 'pDNN_scrublet', 'pDNN_union', 'scrublet_doublet_scores', 'S.Score', 'G2M.Score', 'Phase', 'scrublet_predicted_doublet', 'doublet_score_scDblFinder', 'cell_types_level1', 'annotation_level_1_probability', 'annotation_figure_1', 'annotation_20220215', 'annotation_20220619', 'cell_types_level3_20230508', 'annotation_20230508_probability', 'UMAP_1_level_1', 'UMAP_2_level_1', 'UMAP_1_20220215', 'UMAP_2_20220215', 'UMAP_1_20230508', 'UMAP_2_20230508', 'type', 'azimuth.celltype.l1', 'cell_types_level2', 'tissue', 'organism', 'disease'\n",
       "    var: 'ensembl_id', 'gene_symbol'\n",
       "    uns: 'ArrayExpress', 'Azimuth', 'GitHub', 'HCATonsilData', 'Study', 'X_name', 'Zenodo'\n",
       "    obsm: 'X_harmony', 'X_pca', 'X_umap'"
      ]
     },
     "execution_count": 18,
     "metadata": {},
     "output_type": "execute_result"
    }
   ],
   "source": [
    "adata"
   ]
  },
  {
   "cell_type": "code",
   "execution_count": 19,
   "id": "cf04f862-af9f-47bf-a60f-10160295f2a1",
   "metadata": {
    "execution": {
     "iopub.execute_input": "2024-07-29T10:21:51.482302Z",
     "iopub.status.busy": "2024-07-29T10:21:51.481972Z",
     "iopub.status.idle": "2024-07-29T10:21:51.570263Z",
     "shell.execute_reply": "2024-07-29T10:21:51.569856Z",
     "shell.execute_reply.started": "2024-07-29T10:21:51.482281Z"
    }
   },
   "outputs": [
    {
     "data": {
      "text/plain": [
       "AnnData object with n_obs × n_vars = 377988 × 38606\n",
       "    obs: 'barcode', 'donor_id', '10X_channel', 'libraryID', 'assay', 'sex', 'age', 'age_group', 'hospital', 'cell_types_level1', 'cell_types_level2', 'cell_types_level3_20230508', 'disease', 'organism', 'tissue'\n",
       "    var: 'ensembl_id', 'gene_symbol'\n",
       "    uns: 'ArrayExpress', 'Azimuth', 'GitHub', 'HCATonsilData', 'Study', 'X_name', 'Zenodo'\n",
       "    obsm: 'X_harmony', 'X_pca', 'X_umap'"
      ]
     },
     "execution_count": 19,
     "metadata": {},
     "output_type": "execute_result"
    }
   ],
   "source": [
    "columns_to_keep = ['barcode', 'donor_id', '10X_channel', 'libraryID', 'assay', 'sex', 'age', 'age_group', 'hospital',\n",
    "                  'cell_types_level1', 'cell_types_level2', 'cell_types_level3_20230508', 'disease', 'organism', 'tissue']\n",
    "adata.obs = adata.obs[columns_to_keep]\n",
    "adata"
   ]
  },
  {
   "cell_type": "markdown",
   "id": "23d86d46-e975-4dd2-9702-5204d99f64d1",
   "metadata": {},
   "source": [
    "## UNS"
   ]
  },
  {
   "cell_type": "code",
   "execution_count": 20,
   "id": "c4ef7291-23d7-411b-bc1d-2620c33d7571",
   "metadata": {
    "execution": {
     "iopub.execute_input": "2024-07-29T10:21:51.571061Z",
     "iopub.status.busy": "2024-07-29T10:21:51.570870Z",
     "iopub.status.idle": "2024-07-29T10:21:51.591196Z",
     "shell.execute_reply": "2024-07-29T10:21:51.590847Z",
     "shell.execute_reply.started": "2024-07-29T10:21:51.571043Z"
    }
   },
   "outputs": [],
   "source": [
    "adata.uns['DOI'] = adata.uns.pop('Study')\n",
    "adata.uns['X_layer_explanation'] = \"raw counts from filtered cells (utilized in the paper) with ENSG ids\"\n",
    "del adata.uns['X_name']"
   ]
  },
  {
   "cell_type": "code",
   "execution_count": 21,
   "id": "c5cb307b-bffc-4f82-8834-be6fb7b49c0e",
   "metadata": {
    "execution": {
     "iopub.execute_input": "2024-07-29T10:21:58.848414Z",
     "iopub.status.busy": "2024-07-29T10:21:58.847970Z",
     "iopub.status.idle": "2024-07-29T10:21:58.852376Z",
     "shell.execute_reply": "2024-07-29T10:21:58.852018Z",
     "shell.execute_reply.started": "2024-07-29T10:21:58.848395Z"
    }
   },
   "outputs": [
    {
     "data": {
      "text/plain": [
       "AnnData object with n_obs × n_vars = 377988 × 38606\n",
       "    obs: 'barcode', 'donor_id', '10X_channel', 'libraryID', 'assay', 'sex', 'age', 'age_group', 'hospital', 'cell_types_level1', 'cell_types_level2', 'cell_types_level3_20230508', 'disease', 'organism', 'tissue'\n",
       "    var: 'ensembl_id', 'gene_symbol'\n",
       "    uns: 'ArrayExpress', 'Azimuth', 'GitHub', 'HCATonsilData', 'Zenodo', 'DOI', 'X_layer_explanation'\n",
       "    obsm: 'X_harmony', 'X_pca', 'X_umap'"
      ]
     },
     "execution_count": 21,
     "metadata": {},
     "output_type": "execute_result"
    }
   ],
   "source": [
    "adata"
   ]
  },
  {
   "cell_type": "markdown",
   "id": "e83c7973-50d7-4a3a-83c9-391cd7e81ed0",
   "metadata": {},
   "source": [
    "## VAR"
   ]
  },
  {
   "cell_type": "code",
   "execution_count": 22,
   "id": "38b4e79e-bd0e-4a05-b672-47513aa876f0",
   "metadata": {
    "execution": {
     "iopub.execute_input": "2024-07-29T10:22:00.830828Z",
     "iopub.status.busy": "2024-07-29T10:22:00.830572Z",
     "iopub.status.idle": "2024-07-29T10:22:00.840272Z",
     "shell.execute_reply": "2024-07-29T10:22:00.839924Z",
     "shell.execute_reply.started": "2024-07-29T10:22:00.830812Z"
    }
   },
   "outputs": [
    {
     "data": {
      "text/plain": [
       "<bound method NDFrame.head of                       ensembl_id      gene_symbol\n",
       "ENSG00000290825  ENSG00000290825          DDX11L2\n",
       "ENSG00000243485  ENSG00000243485      MIR1302-2HG\n",
       "ENSG00000237613  ENSG00000237613          FAM138A\n",
       "ENSG00000290826  ENSG00000290826  ENSG00000290826\n",
       "ENSG00000186092  ENSG00000186092            OR4F5\n",
       "...                          ...              ...\n",
       "ENSG00000277836  ENSG00000277836  ENSG00000277836\n",
       "ENSG00000278633  ENSG00000278633  ENSG00000278633\n",
       "ENSG00000276017  ENSG00000276017  ENSG00000276017\n",
       "ENSG00000278817  ENSG00000278817  ENSG00000278817\n",
       "ENSG00000277196  ENSG00000277196  ENSG00000277196\n",
       "\n",
       "[38606 rows x 2 columns]>"
      ]
     },
     "execution_count": 22,
     "metadata": {},
     "output_type": "execute_result"
    }
   ],
   "source": [
    "adata.var.head"
   ]
  },
  {
   "cell_type": "markdown",
   "id": "c177baf9-6f96-4170-bca9-d4745456998f",
   "metadata": {},
   "source": [
    "# Save adata"
   ]
  },
  {
   "cell_type": "code",
   "execution_count": 23,
   "id": "eeb30e7f-618c-42ba-b776-10b65f594f48",
   "metadata": {
    "execution": {
     "iopub.execute_input": "2024-07-29T10:22:15.147140Z",
     "iopub.status.busy": "2024-07-29T10:22:15.146696Z",
     "iopub.status.idle": "2024-07-29T10:22:15.150243Z",
     "shell.execute_reply": "2024-07-29T10:22:15.149903Z",
     "shell.execute_reply.started": "2024-07-29T10:22:15.147108Z"
    }
   },
   "outputs": [
    {
     "data": {
      "text/plain": [
       "AnnData object with n_obs × n_vars = 377988 × 38606\n",
       "    obs: 'barcode', 'donor_id', '10X_channel', 'libraryID', 'assay', 'sex', 'age', 'age_group', 'hospital', 'cell_types_level1', 'cell_types_level2', 'cell_types_level3_20230508', 'disease', 'organism', 'tissue'\n",
       "    var: 'ensembl_id', 'gene_symbol'\n",
       "    uns: 'ArrayExpress', 'Azimuth', 'GitHub', 'HCATonsilData', 'Zenodo', 'DOI', 'X_layer_explanation'\n",
       "    obsm: 'X_harmony', 'X_pca', 'X_umap'"
      ]
     },
     "execution_count": 23,
     "metadata": {},
     "output_type": "execute_result"
    }
   ],
   "source": [
    "adata"
   ]
  },
  {
   "cell_type": "code",
   "execution_count": null,
   "id": "8e18579b-3659-4908-93c0-090698c21840",
   "metadata": {},
   "outputs": [],
   "source": [
    "save_path = root_folder + \"results/TonsilAtlasADATA_toCAP.h5ad\"\n",
    "adata.write(save_path, compression=\"gzip\")"
   ]
  },
  {
   "cell_type": "code",
   "execution_count": null,
   "id": "3e5b6a73-b746-426b-b120-00497b88d9df",
   "metadata": {},
   "outputs": [],
   "source": [
    "save_path = root_folder + \"results/TonsilAtlasADATA_toCAP.h5ad\"\n"
   ]
  }
 ],
 "metadata": {
  "kernelspec": {
   "display_name": "Python 3 (ipykernel)",
   "language": "python",
   "name": "python3"
  },
  "language_info": {
   "codemirror_mode": {
    "name": "ipython",
    "version": 3
   },
   "file_extension": ".py",
   "mimetype": "text/x-python",
   "name": "python",
   "nbconvert_exporter": "python",
   "pygments_lexer": "ipython3",
   "version": "3.10.13"
  }
 },
 "nbformat": 4,
 "nbformat_minor": 5
}
